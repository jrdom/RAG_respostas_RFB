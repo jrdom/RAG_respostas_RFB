{
 "cells": [
  {
   "cell_type": "code",
   "execution_count": 2,
   "metadata": {},
   "outputs": [],
   "source": [
    "import pandas as pd\n",
    "\n",
    "df = pd.read_excel(\"normas_extraidas.xlsx\")"
   ]
  },
  {
   "cell_type": "code",
   "execution_count": 3,
   "metadata": {},
   "outputs": [],
   "source": [
    "df = df.loc[df[\"Norma\"] != \"não tem norma legal para essa pergunta\"]"
   ]
  },
  {
   "cell_type": "code",
   "execution_count": 4,
   "metadata": {},
   "outputs": [],
   "source": [
    "list_numero_perguntas = []\n",
    "\n",
    "for index, row in df.iterrows():\n",
    "    list_numero_perguntas.append(row[\"Pergunta\"][0:3])"
   ]
  },
  {
   "cell_type": "code",
   "execution_count": 5,
   "metadata": {},
   "outputs": [],
   "source": [
    "import json\n",
    "\n",
    "file_path = \"questions_and_anwers.txt\"\n",
    "data = []\n",
    "with open(file_path, 'r') as file:\n",
    "    for line in file:\n",
    "        data.append(json.loads(line.strip()))"
   ]
  },
  {
   "cell_type": "code",
   "execution_count": 6,
   "metadata": {},
   "outputs": [],
   "source": [
    "list_questions = []\n",
    "\n",
    "for question in data:\n",
    "    if question['question_number'] in list_numero_perguntas:\n",
    "        list_questions.append(question)\n"
   ]
  },
  {
   "cell_type": "code",
   "execution_count": 7,
   "metadata": {},
   "outputs": [
    {
     "data": {
      "text/plain": [
       "577"
      ]
     },
     "execution_count": 7,
     "metadata": {},
     "output_type": "execute_result"
    }
   ],
   "source": [
    "len(list_questions)"
   ]
  },
  {
   "cell_type": "code",
   "execution_count": 8,
   "metadata": {},
   "outputs": [
    {
     "name": "stdout",
     "output_type": "stream",
     "text": [
      "Data saved to questions_and_anwers_filter.txt\n"
     ]
    }
   ],
   "source": [
    "file_path = \"questions_and_anwers_filter.txt\"\n",
    "\n",
    "# Write each dictionary as a JSON string in a new line\n",
    "with open(file_path, 'w') as file:\n",
    "    for item in list_questions:\n",
    "        json.dump(item, file)\n",
    "        file.write(\"\\n\")\n",
    "\n",
    "print(f\"Data saved to {file_path}\")"
   ]
  },
  {
   "cell_type": "code",
   "execution_count": 9,
   "metadata": {},
   "outputs": [],
   "source": [
    "data = []\n",
    "with open(file_path, 'r') as file:\n",
    "    for line in file:\n",
    "        data.append(json.loads(line.strip()))"
   ]
  },
  {
   "cell_type": "code",
   "execution_count": 10,
   "metadata": {},
   "outputs": [
    {
     "data": {
      "text/html": [
       "<div>\n",
       "<style scoped>\n",
       "    .dataframe tbody tr th:only-of-type {\n",
       "        vertical-align: middle;\n",
       "    }\n",
       "\n",
       "    .dataframe tbody tr th {\n",
       "        vertical-align: top;\n",
       "    }\n",
       "\n",
       "    .dataframe thead th {\n",
       "        text-align: right;\n",
       "    }\n",
       "</style>\n",
       "<table border=\"1\" class=\"dataframe\">\n",
       "  <thead>\n",
       "    <tr style=\"text-align: right;\">\n",
       "      <th></th>\n",
       "      <th>question_number</th>\n",
       "      <th>question_summary</th>\n",
       "      <th>question_text</th>\n",
       "      <th>answer</th>\n",
       "      <th>answer_cleaned</th>\n",
       "      <th>references</th>\n",
       "      <th>linked_questions</th>\n",
       "    </tr>\n",
       "  </thead>\n",
       "  <tbody>\n",
       "    <tr>\n",
       "      <th>0</th>\n",
       "      <td>001</td>\n",
       "      <td>OBRIGATORIEDADE</td>\n",
       "      <td>Quem está obrigado a apresentar a Declaração d...</td>\n",
       "      <td>[Está obrigada a apresentar a Declaração de Aj...</td>\n",
       "      <td>[Está obrigada a apresentar a Declaração de Aj...</td>\n",
       "      <td>Lei nº 9.250, de 26 de dezembro de 1995, art. ...</td>\n",
       "      <td></td>\n",
       "    </tr>\n",
       "    <tr>\n",
       "      <th>1</th>\n",
       "      <td>002</td>\n",
       "      <td>PESSOA FÍSICA DESOBRIGADA</td>\n",
       "      <td>Pessoa física desobrigada pode apresentar a De...</td>\n",
       "      <td>[Sim. A pessoa física, ainda que desobrigada, ...</td>\n",
       "      <td>[Sim. A pessoa física, ainda que desobrigada, ...</td>\n",
       "      <td>Instrução Normativa RFB nº 2.178, de 5 de març...</td>\n",
       "      <td>[001, 174]</td>\n",
       "    </tr>\n",
       "    <tr>\n",
       "      <th>2</th>\n",
       "      <td>003</td>\n",
       "      <td>TITULAR OU SÓCIO DE EMPRESA</td>\n",
       "      <td>Contribuinte que é titular ou sócio de empresa...</td>\n",
       "      <td>[Não, a menos que se enquadre nas hipóteses pr...</td>\n",
       "      <td>[Não, a menos que se enquadre nas hipóteses pr...</td>\n",
       "      <td>Instrução Normativa RFB nº 2.178, de 5 de març...</td>\n",
       "      <td>[001]</td>\n",
       "    </tr>\n",
       "    <tr>\n",
       "      <th>3</th>\n",
       "      <td>004</td>\n",
       "      <td>QUADRO SOCIETÁRIO OU ASSOCIADO DE COOPERATIVA</td>\n",
       "      <td>Contribuinte, que participou de quadro societá...</td>\n",
       "      <td>[Não, a menos que esteja obrigado a declarar c...</td>\n",
       "      <td>[Não, a menos que esteja obrigado a declarar c...</td>\n",
       "      <td>Instrução Normativa RFB nº 2.178, de 5 de març...</td>\n",
       "      <td>[001]</td>\n",
       "    </tr>\n",
       "    <tr>\n",
       "      <th>4</th>\n",
       "      <td>005</td>\n",
       "      <td>DE DECLARAR</td>\n",
       "      <td>Contribuinte que constou como responsável pera...</td>\n",
       "      <td>[Esse contribuinte está obrigado a declarar ca...</td>\n",
       "      <td>[Esse contribuinte está obrigado a declarar ca...</td>\n",
       "      <td>Instrução Normativa RFB nº 2.178, de 5 de març...</td>\n",
       "      <td>[001]</td>\n",
       "    </tr>\n",
       "    <tr>\n",
       "      <th>...</th>\n",
       "      <td>...</td>\n",
       "      <td>...</td>\n",
       "      <td>...</td>\n",
       "      <td>...</td>\n",
       "      <td>...</td>\n",
       "      <td>...</td>\n",
       "      <td>...</td>\n",
       "    </tr>\n",
       "    <tr>\n",
       "      <th>572</th>\n",
       "      <td>711</td>\n",
       "      <td>RENDIMENTOS – CONTA DE DEPÓSITO DE POUPANÇA</td>\n",
       "      <td>Qual é o tratamento tributário dos rendimentos...</td>\n",
       "      <td>[Os rendimentos obtidos em conta de depósito d...</td>\n",
       "      <td>[Os rendimentos obtidos em conta de depósito d...</td>\n",
       "      <td>Lei nº 8.981, de 20 de janeiro de 1995, art. 6...</td>\n",
       "      <td></td>\n",
       "    </tr>\n",
       "    <tr>\n",
       "      <th>573</th>\n",
       "      <td>712</td>\n",
       "      <td>CONTA DE DEPÓSITO DE POUPANÇA - MENOR DE IDADE</td>\n",
       "      <td>Qual é o tratamento tributário dos rendimentos...</td>\n",
       "      <td>[Tratando-se de conta de depósito de poupança,...</td>\n",
       "      <td>[Tratando-se de conta de depósito de poupança,...</td>\n",
       "      <td>Lei nº 8.981, de 20 de janeiro de 1995, art. 6...</td>\n",
       "      <td></td>\n",
       "    </tr>\n",
       "    <tr>\n",
       "      <th>574</th>\n",
       "      <td>713</td>\n",
       "      <td>JUROS DE POUPANÇA - NÃO RESIDENTE</td>\n",
       "      <td>As importâncias correspondentes aos juros de c...</td>\n",
       "      <td>[Não. Relativamente aos juros de conta de depó...</td>\n",
       "      <td>[Não. Relativamente aos juros de conta de depó...</td>\n",
       "      <td>Lei nº 8.981, de 20 de janeiro de 1995, arts. ...</td>\n",
       "      <td></td>\n",
       "    </tr>\n",
       "    <tr>\n",
       "      <th>575</th>\n",
       "      <td>714</td>\n",
       "      <td>AÇÕES LEILOADAS - PROGRAMA NACIONAL DE DESESTA...</td>\n",
       "      <td>Qual é o tratamento tributário aplicável na aq...</td>\n",
       "      <td>[A entrega, pelo licitante vencedor, de título...</td>\n",
       "      <td>[A entrega, pelo licitante vencedor, de título...</td>\n",
       "      <td>Regulamento do Imposto sobre a Renda – RIR/201...</td>\n",
       "      <td></td>\n",
       "    </tr>\n",
       "    <tr>\n",
       "      <th>576</th>\n",
       "      <td>715</td>\n",
       "      <td>ALIENAÇÃO DE AÇÕES EM BOLSA - LIQUIDAÇÃO NO MÊ...</td>\n",
       "      <td>No caso de alienação de ações em pregão ao fin...</td>\n",
       "      <td>[Sendo o ganho líquido sobre renda variável um...</td>\n",
       "      <td>[Sendo o ganho líquido sobre renda variável um...</td>\n",
       "      <td>Regulamento do Imposto sobre a Renda – RIR/201...</td>\n",
       "      <td></td>\n",
       "    </tr>\n",
       "  </tbody>\n",
       "</table>\n",
       "<p>577 rows × 7 columns</p>\n",
       "</div>"
      ],
      "text/plain": [
       "    question_number                                   question_summary  \\\n",
       "0               001                                    OBRIGATORIEDADE   \n",
       "1               002                          PESSOA FÍSICA DESOBRIGADA   \n",
       "2               003                        TITULAR OU SÓCIO DE EMPRESA   \n",
       "3               004      QUADRO SOCIETÁRIO OU ASSOCIADO DE COOPERATIVA   \n",
       "4               005                                        DE DECLARAR   \n",
       "..              ...                                                ...   \n",
       "572             711        RENDIMENTOS – CONTA DE DEPÓSITO DE POUPANÇA   \n",
       "573             712     CONTA DE DEPÓSITO DE POUPANÇA - MENOR DE IDADE   \n",
       "574             713                  JUROS DE POUPANÇA - NÃO RESIDENTE   \n",
       "575             714  AÇÕES LEILOADAS - PROGRAMA NACIONAL DE DESESTA...   \n",
       "576             715  ALIENAÇÃO DE AÇÕES EM BOLSA - LIQUIDAÇÃO NO MÊ...   \n",
       "\n",
       "                                         question_text  \\\n",
       "0    Quem está obrigado a apresentar a Declaração d...   \n",
       "1    Pessoa física desobrigada pode apresentar a De...   \n",
       "2    Contribuinte que é titular ou sócio de empresa...   \n",
       "3    Contribuinte, que participou de quadro societá...   \n",
       "4    Contribuinte que constou como responsável pera...   \n",
       "..                                                 ...   \n",
       "572  Qual é o tratamento tributário dos rendimentos...   \n",
       "573  Qual é o tratamento tributário dos rendimentos...   \n",
       "574  As importâncias correspondentes aos juros de c...   \n",
       "575  Qual é o tratamento tributário aplicável na aq...   \n",
       "576  No caso de alienação de ações em pregão ao fin...   \n",
       "\n",
       "                                                answer  \\\n",
       "0    [Está obrigada a apresentar a Declaração de Aj...   \n",
       "1    [Sim. A pessoa física, ainda que desobrigada, ...   \n",
       "2    [Não, a menos que se enquadre nas hipóteses pr...   \n",
       "3    [Não, a menos que esteja obrigado a declarar c...   \n",
       "4    [Esse contribuinte está obrigado a declarar ca...   \n",
       "..                                                 ...   \n",
       "572  [Os rendimentos obtidos em conta de depósito d...   \n",
       "573  [Tratando-se de conta de depósito de poupança,...   \n",
       "574  [Não. Relativamente aos juros de conta de depó...   \n",
       "575  [A entrega, pelo licitante vencedor, de título...   \n",
       "576  [Sendo o ganho líquido sobre renda variável um...   \n",
       "\n",
       "                                        answer_cleaned  \\\n",
       "0    [Está obrigada a apresentar a Declaração de Aj...   \n",
       "1    [Sim. A pessoa física, ainda que desobrigada, ...   \n",
       "2    [Não, a menos que se enquadre nas hipóteses pr...   \n",
       "3    [Não, a menos que esteja obrigado a declarar c...   \n",
       "4    [Esse contribuinte está obrigado a declarar ca...   \n",
       "..                                                 ...   \n",
       "572  [Os rendimentos obtidos em conta de depósito d...   \n",
       "573  [Tratando-se de conta de depósito de poupança,...   \n",
       "574  [Não. Relativamente aos juros de conta de depó...   \n",
       "575  [A entrega, pelo licitante vencedor, de título...   \n",
       "576  [Sendo o ganho líquido sobre renda variável um...   \n",
       "\n",
       "                                            references linked_questions  \n",
       "0    Lei nº 9.250, de 26 de dezembro de 1995, art. ...                   \n",
       "1    Instrução Normativa RFB nº 2.178, de 5 de març...       [001, 174]  \n",
       "2    Instrução Normativa RFB nº 2.178, de 5 de març...            [001]  \n",
       "3    Instrução Normativa RFB nº 2.178, de 5 de març...            [001]  \n",
       "4    Instrução Normativa RFB nº 2.178, de 5 de març...            [001]  \n",
       "..                                                 ...              ...  \n",
       "572  Lei nº 8.981, de 20 de janeiro de 1995, art. 6...                   \n",
       "573  Lei nº 8.981, de 20 de janeiro de 1995, art. 6...                   \n",
       "574  Lei nº 8.981, de 20 de janeiro de 1995, arts. ...                   \n",
       "575  Regulamento do Imposto sobre a Renda – RIR/201...                   \n",
       "576  Regulamento do Imposto sobre a Renda – RIR/201...                   \n",
       "\n",
       "[577 rows x 7 columns]"
      ]
     },
     "execution_count": 10,
     "metadata": {},
     "output_type": "execute_result"
    }
   ],
   "source": [
    "df_geral = pd.DataFrame.from_dict(data)\n",
    "df_geral"
   ]
  },
  {
   "cell_type": "code",
   "execution_count": 11,
   "metadata": {},
   "outputs": [],
   "source": [
    "df_geral.to_excel(\"df_questions_answers.xlsx\", index=False)"
   ]
  },
  {
   "cell_type": "code",
   "execution_count": null,
   "metadata": {},
   "outputs": [],
   "source": []
  }
 ],
 "metadata": {
  "kernelspec": {
   "display_name": ".venv",
   "language": "python",
   "name": "python3"
  },
  "language_info": {
   "codemirror_mode": {
    "name": "ipython",
    "version": 3
   },
   "file_extension": ".py",
   "mimetype": "text/x-python",
   "name": "python",
   "nbconvert_exporter": "python",
   "pygments_lexer": "ipython3",
   "version": "3.9.11"
  }
 },
 "nbformat": 4,
 "nbformat_minor": 2
}
